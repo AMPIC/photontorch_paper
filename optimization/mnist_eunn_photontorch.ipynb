{
 "cells": [
  {
   "cell_type": "markdown",
   "metadata": {
    "colab_type": "text",
    "id": "lCT5P4MY1qPd"
   },
   "source": [
    "# Photontorch MNIST"
   ]
  },
  {
   "cell_type": "markdown",
   "metadata": {
    "colab_type": "text",
    "id": "bdw58MPr1qPg"
   },
   "source": [
    "A custom recurrent neural network based on photonic components"
   ]
  },
  {
   "cell_type": "markdown",
   "metadata": {
    "_cell_guid": "39fba1ef-ec4b-38ca-fca0-0bdb31e294f4",
    "colab_type": "text",
    "id": "lyF1rTE41qPi"
   },
   "source": [
    "## Imports"
   ]
  },
  {
   "cell_type": "code",
   "execution_count": 1,
   "metadata": {
    "_cell_guid": "6efa16c1-f457-45bb-49a3-69e11c7fae18",
    "colab": {},
    "colab_type": "code",
    "id": "ohECfupL1qPl"
   },
   "outputs": [
    {
     "name": "stdout",
     "output_type": "stream",
     "text": [
      "/home/flaport/Python/Photontorch/photontorch/__init__.py\n"
     ]
    }
   ],
   "source": [
    "# standard library\n",
    "import re\n",
    "import os\n",
    "import gzip\n",
    "from urllib.request import urlretrieve\n",
    "\n",
    "# photontorch\n",
    "import torch\n",
    "import photontorch\n",
    "from photontorch import Component, Network, ClementsNxN, Environment, Mmi, Source, Detector, set_environment\n",
    "print(photontorch.__file__)\n",
    "\n",
    "# other\n",
    "import numpy as np\n",
    "%matplotlib inline\n",
    "import matplotlib.pyplot as plt\n",
    "\n",
    "# set seeds\n",
    "torch.manual_seed(5)\n",
    "np.random.seed(1)\n",
    "\n",
    "# folder to save checkpoints:\n",
    "CHECKPOINTFOLDER = 'mnist_checkpoints/eunn_photontorch_capacity2'\n",
    "set_environment(frequency_domain=True, enable_grad=True)\n",
    "\n",
    "# mpl style context manager\n",
    "custom_style = lambda : plt.style.context(os.path.abspath('custom.mplstyle'))"
   ]
  },
  {
   "cell_type": "markdown",
   "metadata": {
    "colab_type": "text",
    "id": "WuwFT-U85z5a"
   },
   "source": [
    "## Fetch MNIST Function"
   ]
  },
  {
   "cell_type": "code",
   "execution_count": 2,
   "metadata": {
    "colab": {},
    "colab_type": "code",
    "id": "Adu2Ze1Q529l"
   },
   "outputs": [],
   "source": [
    "def fetch_mnist(redownload=False, verbose=True):\n",
    "    ''' Get MNIST data in npy format\n",
    "\n",
    "    Args:\n",
    "        redownload=False (bool): force redownload, even if file already exists\n",
    "    '''\n",
    "    # check if data is already downloaded. If so, do not download again, except\n",
    "    # when explicitly asked to do so\n",
    "    if (os.path.exists('mnist_data/train.npy')\n",
    "        and os.path.exists('mnist_data/test.npy')\n",
    "        and not redownload):\n",
    "        # load files from data folder\n",
    "        return np.load('mnist_data/train.npy'), np.load('mnist_data/test.npy')\n",
    "\n",
    "    # create folders\n",
    "    if not os.path.isdir('mnist_data'):\n",
    "        os.mkdir('mnist_data')\n",
    "\n",
    "    # check if data is already downloaded. If so, do not download again, except\n",
    "    # when explicitly asked to do so\n",
    "    if not (os.path.exists('mnist_data/train_images.gz')\n",
    "        and os.path.exists('mnist_data/train_labels.gz')\n",
    "        and os.path.exists('mnist_data/test_images.gz')\n",
    "        and os.path.exists('mnist_data/test_labels.gz')\n",
    "        and not redownload):\n",
    "        if verbose:\n",
    "            print('downloading mnist data from http://yann.lecun.com/')\n",
    "        # download data\n",
    "        urlretrieve('http://yann.lecun.com/exdb/mnist/train-images-idx3-ubyte.gz', 'mnist_data/train_images.gz')\n",
    "        urlretrieve('http://yann.lecun.com/exdb/mnist/train-labels-idx1-ubyte.gz', 'mnist_data/train_labels.gz')\n",
    "        urlretrieve('http://yann.lecun.com/exdb/mnist/t10k-images-idx3-ubyte.gz', 'mnist_data/test_images.gz')\n",
    "        urlretrieve('http://yann.lecun.com/exdb/mnist/t10k-labels-idx1-ubyte.gz', 'mnist_data/test_labels.gz')\n",
    "\n",
    "    # fill numpy arrays:\n",
    "    train = np.empty((60000,785), dtype='uint8')\n",
    "    test = np.empty((10000,785), dtype='uint8')\n",
    "    \n",
    "    if verbose:\n",
    "        print('converting .gz data to .npy')\n",
    "\n",
    "    for type, npdata in [('train', train),('test', test)]:\n",
    "        # open the files\n",
    "        with gzip.open('mnist_data/%s_images.gz'%type, 'rb') as data,\\\n",
    "             gzip.open('mnist_data/%s_labels.gz'%type, 'rb') as labels:\n",
    "\n",
    "            # skip the first bytes with metadata of the ubyte file:\n",
    "            data.read(16)\n",
    "            labels.read(8)\n",
    "\n",
    "            # read each byte of the gzip file and save it as a uint8 number\n",
    "            # in the numpy array.\n",
    "            for i in range(npdata.shape[0]):\n",
    "                npdata[i,0] = ord(labels.read(1))\n",
    "                for j in range(784): # append the data after the label\n",
    "                    npdata[i, j+1] = ord(data.read(1))\n",
    "\n",
    "    # save numpy arrays\n",
    "    np.save('mnist_data/train.npy', train)\n",
    "    np.save('mnist_data/test.npy', test)\n",
    "    \n",
    "    if verbose:\n",
    "        print('finished conversion.')\n",
    "\n",
    "    return train, test"
   ]
  },
  {
   "cell_type": "markdown",
   "metadata": {
    "colab_type": "text",
    "id": "-QiR5QtN6Pat"
   },
   "source": [
    "## EUNN"
   ]
  },
  {
   "cell_type": "code",
   "execution_count": 3,
   "metadata": {
    "colab": {},
    "colab_type": "code",
    "id": "f0Qu3vZo1qPs"
   },
   "outputs": [],
   "source": [
    "class EUNN(ClementsNxN):\n",
    "    def __init__(self, hidden_size, capacity=None):\n",
    "        \"\"\" EUNN __init__\n",
    "\n",
    "        Args:\n",
    "            hidden_size (int): the size of the unitary matrix this cell represents.\n",
    "            capacity (int): 0 < capacity <= hidden_size. This number represents the\n",
    "                number of layers containing unitary rotations. The higher the capacity,\n",
    "                the more of the unitary matrix space can be filled. This obviously\n",
    "                introduces a speed penalty. In recurrent neural networks, a small\n",
    "                capacity is usually preferred.\n",
    "        \"\"\"\n",
    "        self.hidden_size = int(hidden_size)\n",
    "        self.capacity = int(hidden_size) if capacity is None else int(capacity)\n",
    "        super(EUNN, self).__init__(N=self.hidden_size, capacity=self.capacity)\n",
    "    \n",
    "    def terminate(self):\n",
    "        ret = super(EUNN, self).terminate()\n",
    "        ret.__class__ = self.__class__ # little hack to keep custom forward function\n",
    "        return ret\n",
    "    \n",
    "    def forward(self, x):\n",
    "        ''' x.shape = (#batches, #features, 2=(real_imag)) \n",
    "        \n",
    "        Note:\n",
    "            this forward method is only valid if no delays are present\n",
    "            in the EUNN\n",
    "        '''\n",
    "        assert torch.is_tensor(x)\n",
    "        num_batches, num_features, _ = x.shape\n",
    "        x = torch.cat([x, torch.zeros((num_batches, self.nmc-num_features, 2), device=self.device)], 1)\n",
    "        rx, ix = x.permute(2,1,0)[:,None,:,:] # rx.shape = (1, #mc nodes, #batches)\n",
    "        rx, ix = self._rC.bmm(rx) - self._iC.bmm(ix), self._rC.bmm(ix) + self._iC.bmm(rx)\n",
    "        det = torch.stack([\n",
    "            rx[0, -self.num_detectors:, :],\n",
    "            ix[0, -self.num_detectors:, :],\n",
    "        ], 0) # det.shape = (2, # detectors, # batches)\n",
    "        return det.permute(2,1,0)\n",
    "    \n",
    "class ModReLU(torch.nn.Module):\n",
    "    \"\"\" A modular ReLU activation function for complex-valued tensors \"\"\"\n",
    "\n",
    "    def __init__(self, size):\n",
    "        super(ModReLU, self).__init__()\n",
    "        self.bias = torch.nn.Parameter(torch.rand(1, size))\n",
    "        self.relu = torch.nn.ReLU()\n",
    "\n",
    "    def forward(self, x, eps=1e-5):\n",
    "        \"\"\" ModReLU forward\n",
    "\n",
    "        Args:\n",
    "            x (torch.tensor): A torch float tensor with the real and imaginary part\n",
    "                stored in the last dimension of the tensor; i.e. x.shape = [a, ...,b, 2]\n",
    "        Kwargs:\n",
    "            eps (float): A small number added to the norm of the complex tensor for\n",
    "                numerical stability.\n",
    "        \"\"\"\n",
    "        x_re, x_im = x[..., 0], x[..., 1]\n",
    "        norm = torch.sqrt(x_re ** 2 + x_im ** 2) + 1e-5\n",
    "        phase_re, phase_im = x_re / norm, x_im / norm\n",
    "        activated_norm = self.relu(norm + self.bias)\n",
    "        modrelu = torch.stack(\n",
    "            [activated_norm * phase_re, activated_norm * phase_im], -1\n",
    "        )\n",
    "        return modrelu\n",
    "\n",
    "\n",
    "class EURNN(torch.nn.Module):\n",
    "    def __init__(self, input_size, hidden_size, output_size, capacity=2):\n",
    "        super(EURNN, self).__init__()\n",
    "        \n",
    "        self.hidden_size = int(hidden_size)\n",
    "        self.input_layer = torch.nn.Linear(input_size, hidden_size, bias=True)\n",
    "        self.hidden_layer = EUNN(hidden_size, capacity=capacity).terminate().to(device)\n",
    "        self.output_layer = torch.nn.Linear(hidden_size, output_size, bias=True)\n",
    "        self.modrelu = ModReLU(hidden_size).to(device)\n",
    "        \n",
    "        # initialize weights\n",
    "        v = np.sqrt(2)/np.sqrt(num_labels + num_inputs)\n",
    "        self.input_layer.bias.data[:] = 0.01\n",
    "        self.modrelu.bias.data[:] = 0.01\n",
    "        self.output_layer.bias.data[:] = 0.01\n",
    "        torch.nn.init.uniform_(self.input_layer.weight.data, -v, v)\n",
    "        torch.nn.init.uniform_(self.output_layer.weight.data, -v, v)\n",
    "        \n",
    "    def forward(self, input):\n",
    "        ''' input.shape = (# timesteps, #batches, #input_size) '''\n",
    "        # apply input layer\n",
    "        input_shape = input.shape\n",
    "        reshaped_input = input.view(-1, input_shape[-1])\n",
    "        result = self.input_layer(reshaped_input)\n",
    "        input = self.input_layer(reshaped_input).view(*(input_shape[:-1] + (-1,)))\n",
    "        \n",
    "        # make input complex\n",
    "        input = torch.stack([input, torch.zeros_like(input)], -1)\n",
    "        \n",
    "        # create internal state\n",
    "        state = torch.zeros_like(input[0])\n",
    "        \n",
    "        # recurrent loop\n",
    "        for inp in input:\n",
    "            state = self.modrelu(inp + self.hidden_layer(state))\n",
    "        \n",
    "        # return\n",
    "        return self.output_layer(state[...,0])"
   ]
  },
  {
   "cell_type": "markdown",
   "metadata": {
    "colab_type": "raw",
    "id": "_Fna6vUT1qPw"
   },
   "source": [
    "```\n",
    "device = 'cuda'\n",
    "x = torch.randn(28*28, 100, 1, device='cuda')\n",
    "eurnn = EURNN(input_size=1, hidden_size=200, output_size=10, capacity=2).to('cuda')\n",
    "%time eurnn = eurnn.initialize()\n",
    "%time result = eurnn(x)\n",
    "result.shape\n",
    "```"
   ]
  },
  {
   "cell_type": "markdown",
   "metadata": {
    "colab_type": "text",
    "id": "xGtaHSmu1qPy"
   },
   "source": [
    "## Constants"
   ]
  },
  {
   "cell_type": "code",
   "execution_count": 4,
   "metadata": {
    "colab": {},
    "colab_type": "code",
    "id": "eCN1BR0z1qPz"
   },
   "outputs": [],
   "source": [
    "# Data parameters\n",
    "num_labels = 10 # Number of different types of labels (1-10)\n",
    "width, height = 28, 28 # width / height of the image\n",
    "num_pixels = width*height\n",
    "\n",
    "# pixel permutation idxs\n",
    "perm_idxs = list(range(num_pixels))\n",
    "np.random.RandomState(seed=0).shuffle(perm_idxs)\n",
    "\n",
    "# reverse pixel permutation idxs\n",
    "rev_perm_idxs = [perm_idxs.index(i) for i in range(num_pixels)]\n",
    "\n",
    "# Training Parameters\n",
    "num_steps = 1000 # Number of training steps to run\n",
    "test_size = 10000 # Test data set size\n",
    "valid_size = 10000 # Validation data set size\n",
    "train_size = 60000 - valid_size # Size of the training set\n",
    "batch_size = 100 # Batch size\n",
    "test_batch_size = 200 # batch size for calculating the validation/test loss\n",
    "\n",
    "# RNN Parameters\n",
    "num_inputs = 1 # input dimension [1=pixel-by-pixel]\n",
    "num_steps_rnn = num_pixels // num_inputs # sequential dimensionality of rnn\n",
    "num_hidden_rnn = 256 # hidden layer dimension\n",
    "capacity_rnn = 2 # capacity of eunn\n",
    "\n",
    "# Optimization parameters\n",
    "learning_rate = 0.0001 # learning rate\n",
    "\n",
    "# cuda\n",
    "cuda = True\n",
    "device = torch.device('cuda' if cuda else 'cpu')"
   ]
  },
  {
   "cell_type": "markdown",
   "metadata": {
    "_cell_guid": "f731214e-9fca-f54d-91be-60475207ba64",
    "colab_type": "text",
    "id": "A-ufYpDg1qP4"
   },
   "source": [
    "## Data"
   ]
  },
  {
   "cell_type": "markdown",
   "metadata": {
    "colab_type": "text",
    "id": "8lzKnEOk1qP5"
   },
   "source": [
    "We use the custom MNIST data fetcher from `fetch_mnist.py`.\n",
    "\n",
    "The image values are specified by an integer between 0 and 255. We convert these pixel values to a float between 0 and 1."
   ]
  },
  {
   "cell_type": "markdown",
   "metadata": {
    "colab_type": "text",
    "id": "u_-0DpJg1qP8"
   },
   "source": [
    "In contrast with the Convolutional Neural Networks, we do a pixel-by-pixel recognition of the digit image where the individial pixels are permuted with a fixed permutation defined by `perm_idx`. This fixed permutation is necessary for good performance of the RNN, as otherwise the the end of the pixel stream contains too many zeros for the RNN to retain its internal state. This is a good benchmark task for a recurrent neural network. The performance of this architecture will obviously be worse than for a convnet."
   ]
  },
  {
   "cell_type": "code",
   "execution_count": 5,
   "metadata": {
    "_cell_guid": "55dd8ffd-6011-49a3-a1fe-c6933c4187b7",
    "_uuid": "840f7b1c60d1a2d5b2222a7c53b2b9d08aac9169",
    "colab": {
     "base_uri": "https://localhost:8080/",
     "height": 54
    },
    "colab_type": "code",
    "collapsed": true,
    "id": "ndzL_mOZ1qP9",
    "outputId": "591359c4-8506-4514-cdce-9ac977ea687b"
   },
   "outputs": [
    {
     "name": "stdout",
     "output_type": "stream",
     "text": [
      "train data shape:\ttorch.Size([784, 50000, 1])\n",
      "train labels shape:\ttorch.Size([50000])\n"
     ]
    }
   ],
   "source": [
    "train_data, test_data = fetch_mnist()\n",
    "data = np.vstack([train_data, test_data])\n",
    "np.random.shuffle(data)\n",
    "\n",
    "train_data = data[:-test_size-valid_size]\n",
    "valid_data = data[-test_size-valid_size:-test_size]\n",
    "test_data  = data[-test_size:]\n",
    "\n",
    "def get_values_labels(data):\n",
    "    labels = torch.tensor(data[:,0], dtype=torch.int64, device=device)\n",
    "    values = torch.tensor(data[:,1:][:,perm_idxs]/255, dtype=torch.float32, device=device).view(-1, num_steps_rnn, num_inputs)\n",
    "    return values, labels\n",
    "    \n",
    "train_values, train_labels = get_values_labels(train_data)\n",
    "valid_values, valid_labels = get_values_labels(valid_data)\n",
    "test_values, test_labels = get_values_labels(test_data)\n",
    "\n",
    "train_values = train_values.permute(1,0,2).contiguous()\n",
    "valid_values = valid_values.permute(1,0,2).contiguous()\n",
    "test_values = test_values.permute(1,0,2).contiguous()\n",
    "\n",
    "\n",
    "print(f'train data shape:\\t{train_values.shape}')\n",
    "print(f'train labels shape:\\t{train_labels.shape}')"
   ]
  },
  {
   "cell_type": "markdown",
   "metadata": {
    "colab_type": "text",
    "id": "URPYkn_U1qQG"
   },
   "source": [
    "We can visualize the different digits by writing a visualization function that reshapes the 784D train and test values into a 28x28 grid:"
   ]
  },
  {
   "cell_type": "code",
   "execution_count": 6,
   "metadata": {
    "colab": {
     "base_uri": "https://localhost:8080/",
     "height": 248
    },
    "colab_type": "code",
    "id": "lSzq5es31qQI",
    "outputId": "6fcdf4b7-f9b8-4bfd-be12-f0fd469442e8"
   },
   "outputs": [
    {
     "data": {
      "image/png": "[encoded data removed]",
      "text/plain": [
       "<Figure size 432x288 with 1 Axes>"
      ]
     },
     "metadata": {},
     "output_type": "display_data"
    }
   ],
   "source": [
    "def show_digit(digit_array):\n",
    "    plt.imshow(digit_array.cpu().numpy().reshape(num_pixels)[rev_perm_idxs].reshape(width, height), cmap='Greys')\n",
    "    plt.xticks([])\n",
    "    plt.yticks([])\n",
    "    plt.show()\n",
    "    \n",
    "show_digit(train_values[:,31])"
   ]
  },
  {
   "cell_type": "markdown",
   "metadata": {
    "_cell_guid": "e33cb0c7-51ed-02ae-ebb2-dcda12832da6",
    "colab_type": "text",
    "id": "iexPGidk1qQQ"
   },
   "source": [
    "# Train"
   ]
  },
  {
   "cell_type": "markdown",
   "metadata": {},
   "source": [
    "Some functions to save checkpoints during training:"
   ]
  },
  {
   "cell_type": "code",
   "execution_count": 7,
   "metadata": {},
   "outputs": [],
   "source": [
    "def filename(step, accuracy, loss):\n",
    "    return os.path.join(CHECKPOINTFOLDER, f'step_{step}_acc={accuracy:.2f}_loss={loss:.2f}.pkl')\n",
    "    \n",
    "def parse_filename(filename):\n",
    "    pattern = re.compile(r'(?:step_)(\\d*)(?:_acc=)(\\d*\\.\\d*)(?:_loss=)(\\d*\\.\\d*)(?:.pkl)')\n",
    "    match = pattern.findall(filename)[0]\n",
    "    return int(match[0]), float(match[1]), float(match[2])\n",
    "\n",
    "def history():\n",
    "    all_filenames = sorted([parse_filename(fn) for fn in os.listdir(CHECKPOINTFOLDER)])\n",
    "    return zip(*all_filenames)\n",
    "\n",
    "def last_filename():\n",
    "    steps, accuracies, losses = history()\n",
    "    return filename(steps[-1], accuracies[-1], losses[-1])\n",
    "\n",
    "def best_filename():\n",
    "    steps, accuracies, losses = history()\n",
    "    best_accuracy = max(accuracies)\n",
    "    best_index = accuracies.index(best_accuracy)\n",
    "    return filename(steps[best_index], accuracies[best_index], losses[best_index])"
   ]
  },
  {
   "cell_type": "markdown",
   "metadata": {
    "colab_type": "text",
    "id": "rISrr9wW1qQS"
   },
   "source": [
    "Create the model"
   ]
  },
  {
   "cell_type": "code",
   "execution_count": 8,
   "metadata": {
    "colab": {},
    "colab_type": "code",
    "id": "RPjMR9841qQT"
   },
   "outputs": [
    {
     "name": "stdout",
     "output_type": "stream",
     "text": [
      "model loaded\n",
      "40000\n"
     ]
    }
   ],
   "source": [
    "if not os.path.isdir(CHECKPOINTFOLDER):\n",
    "    os.mkdir(CHECKPOINTFOLDER)\n",
    "    \n",
    "start_step = -1\n",
    "model = EURNN(num_inputs, num_hidden_rnn, num_labels, capacity_rnn).to(device)#.initialize()\n",
    "if len(os.listdir(CHECKPOINTFOLDER))>0:\n",
    "    model.load_state_dict(torch.load(last_filename()))\n",
    "    start_step, _, _ = parse_filename(last_filename())\n",
    "    print('model loaded')\n",
    "start_step += 1\n",
    "\n",
    "print(start_step)"
   ]
  },
  {
   "cell_type": "markdown",
   "metadata": {
    "colab_type": "text",
    "id": "GmDdc7pn1qQY"
   },
   "source": [
    "We use the categorical cross entropy loss for training the model.\n",
    "\n",
    "As optimizer we could use a Gradient Descent optimizer [with or without decaying learning rate] or one of the more sophisticated (and easier to optimize) optimizers like Adam or RMSProp"
   ]
  },
  {
   "cell_type": "code",
   "execution_count": 9,
   "metadata": {
    "_cell_guid": "7fbe419e-7ce2-4d72-bb31-8b27e8161f1b",
    "_uuid": "bb1b6d4fb5504400ed7678d8e95d0a4478b5f409",
    "colab": {},
    "colab_type": "code",
    "id": "pd_U4a-11qQZ"
   },
   "outputs": [],
   "source": [
    "# loss\n",
    "lossfunc = torch.nn.CrossEntropyLoss()\n",
    "\n",
    "# accuracy\n",
    "def accuracy(logits, labels):\n",
    "    return 100*np.mean(np.argmax(logits.data.cpu().numpy(), 1) == labels.data.cpu().numpy())\n",
    "\n",
    "# RMSprop Optimizer\n",
    "#optimizer = torch.optim.RMSprop(model.parameters(), lr=learning_rate)\n",
    "optimizer = torch.optim.Adam(model.parameters(), lr=learning_rate)"
   ]
  },
  {
   "cell_type": "markdown",
   "metadata": {
    "colab_type": "text",
    "id": "tlTQOEQt1qQg"
   },
   "source": [
    "Start the training. This takes about 24 hours. [enable by converting the cell to a code cell]"
   ]
  },
  {
   "cell_type": "raw",
   "metadata": {
    "_cell_guid": "32786a5c-0388-412d-b6da-ee5ace604eda",
    "_uuid": "9c935ac4a1d1964b85513da422ebf60085dca0e3",
    "colab": {
     "base_uri": "https://localhost:8080/",
     "height": 293
    },
    "colab_type": "code",
    "id": "8y0D22Je1qQg",
    "outputId": "a22429a1-09a7-4565-d7ab-89dab9f76340"
   },
   "source": [
    "from tqdm import trange\n",
    "steps = trange(start_step, num_steps, 1)\n",
    "for step in steps:\n",
    "    # reset gradients\n",
    "    optimizer.zero_grad()\n",
    "    \n",
    "    # initialize model\n",
    "    model.hidden_layer.initialize()\n",
    "    \n",
    "    if False:\n",
    "        with torch.no_grad():\n",
    "            if step%(train_size//batch_size) == 0 or step == num_steps - 1:\n",
    "                val_acc = np.zeros(valid_size//test_batch_size)\n",
    "                val_loss = np.zeros(valid_size//test_batch_size)\n",
    "                # we need to split the calculation of the validation loss in batches\n",
    "                # to avoid memory problems.\n",
    "                for i in range(0, valid_size, test_batch_size):\n",
    "                    valid_logits = model(valid_values[:,i:i+test_batch_size].contiguous())\n",
    "                    val_loss[i//test_batch_size] = lossfunc(valid_logits, valid_labels[i:i+test_batch_size]).item()\n",
    "                    val_acc[i//test_batch_size] = accuracy(valid_logits, valid_labels[i:i+test_batch_size]).item()\n",
    "                    del valid_logits\n",
    "\n",
    "                fn = filename(step, val_acc.mean(), val_loss.mean())\n",
    "                print(fn.split('/')[-1])\n",
    "                torch.save(model.state_dict(), fn)\n",
    "    \n",
    "    # train\n",
    "    idxs = np.random.randint(0, train_size, batch_size)\n",
    "    batch_values = train_values[:,idxs]\n",
    "    batch_labels = train_labels[idxs]\n",
    "    logits = model(batch_values)\n",
    "    loss = lossfunc(logits, batch_labels)\n",
    "    acc = accuracy(logits, batch_labels)\n",
    "    loss.backward()\n",
    "    steps.set_postfix(acc=f'{acc.item():.2f}', loss=f'{loss.item():.8f}')\n",
    "    optimizer.step()\n",
    "    del batch_values, batch_labels, logits, loss, acc"
   ]
  },
  {
   "cell_type": "markdown",
   "metadata": {
    "colab_type": "text",
    "id": "wgQXeqRv1qQm"
   },
   "source": [
    "Training history:"
   ]
  },
  {
   "cell_type": "code",
   "execution_count": 10,
   "metadata": {
    "colab": {
     "base_uri": "https://localhost:8080/",
     "height": 248
    },
    "colab_type": "code",
    "id": "E-2h4IdS1qQq",
    "outputId": "04cde66e-7043-4c7c-b0b2-3ac1563c668e"
   },
   "outputs": [
    {
     "data": {
      "image/png": "[encoded data removed]",
      "text/plain": [
       "<Figure size 252x158.4 with 2 Axes>"
      ]
     },
     "metadata": {},
     "output_type": "display_data"
    }
   ],
   "source": [
    "#from mplstyle import paper\n",
    "steps, acc, loss = history()\n",
    "\n",
    "with custom_style():\n",
    "    fig, ax_loss = plt.subplots()\n",
    "    ax_acc = ax_loss.twinx()\n",
    "\n",
    "    plt.sca(ax_acc)\n",
    "    plt.plot(steps, acc, '-', color='C1')\n",
    "    plt.ylabel('Accuracy [\\%]', color='C1');\n",
    "    plt.tick_params('y', colors='C1')\n",
    "    plt.ylim(69,100)\n",
    "    plt.yticks([70,80,90,100])\n",
    "\n",
    "    plt.sca(ax_loss)\n",
    "    plt.plot(steps, loss, '-', color='C0')\n",
    "    plt.ylabel('Log Loss', color='C0');\n",
    "    plt.tick_params('y', colors='C0')\n",
    "    plt.ylim(-0.05,2)\n",
    "\n",
    "    plt.xlim(0, (max(steps)+100)//100*100)\n",
    "    plt.xlabel('Training Steps')\n",
    "    #plt.title('Validation Loss / Accuracy')\n",
    "    plt.tight_layout()\n",
    "    plt.show()"
   ]
  },
  {
   "cell_type": "markdown",
   "metadata": {
    "colab_type": "text",
    "id": "zjlx0q9u1qQw"
   },
   "source": [
    "## Test"
   ]
  },
  {
   "cell_type": "markdown",
   "metadata": {
    "colab_type": "text",
    "id": "8QQX8VhZ1qQw"
   },
   "source": [
    "Finally, the accuracy on the test set can be evaluated:"
   ]
  },
  {
   "cell_type": "code",
   "execution_count": 11,
   "metadata": {
    "colab": {},
    "colab_type": "code",
    "id": "nBUNdqzR1qQx"
   },
   "outputs": [
    {
     "name": "stdout",
     "output_type": "stream",
     "text": [
      "Test Accuracy = 91.50\n"
     ]
    }
   ],
   "source": [
    "model.load_state_dict(torch.load(best_filename()))\n",
    "model.hidden_layer.initialize()\n",
    "with torch.no_grad():\n",
    "    # we need to split the calculation of the test loss in batches\n",
    "    # to avoid memory problems.\n",
    "    test_accuracy = np.zeros(test_size//test_batch_size)\n",
    "    for i in range(0, test_size, test_batch_size):\n",
    "        test_logits = model(test_values[:,i:i+test_batch_size].contiguous())\n",
    "        test_accuracy[i//test_batch_size] = accuracy(test_logits, test_labels[i:i+test_batch_size]).item()\n",
    "test_accuracy = test_accuracy.mean()\n",
    "print(f'Test Accuracy = {test_accuracy:5.2f}')"
   ]
  },
  {
   "cell_type": "markdown",
   "metadata": {
    "colab_type": "text",
    "id": "_vAM5V9P1qQ3"
   },
   "source": [
    "Visualize an example"
   ]
  },
  {
   "cell_type": "code",
   "execution_count": 12,
   "metadata": {
    "colab": {},
    "colab_type": "code",
    "id": "SWoFQtqb1qQ4"
   },
   "outputs": [
    {
     "data": {
      "image/png": "[encoded data removed]",
      "text/plain": [
       "<Figure size 432x288 with 1 Axes>"
      ]
     },
     "metadata": {},
     "output_type": "display_data"
    },
    {
     "name": "stdout",
     "output_type": "stream",
     "text": [
      "prediction=4\ttarget=4\n"
     ]
    }
   ],
   "source": [
    "N = 318\n",
    "show_digit(test_values[:,N])\n",
    "test_logits = model(test_values[:,N:N+1])\n",
    "prediction = torch.argmax(test_logits[0]).item()\n",
    "target = test_labels[N].item()\n",
    "print(f'prediction={prediction}\\ttarget={target}')"
   ]
  }
 ],
 "metadata": {
  "accelerator": "GPU",
  "colab": {
   "collapsed_sections": [],
   "name": "08_photontorch_eunn.ipynb",
   "provenance": [],
   "version": "0.3.2"
  },
  "kernelspec": {
   "display_name": "Python 3",
   "language": "python",
   "name": "python3"
  },
  "language_info": {
   "codemirror_mode": {
    "name": "ipython",
    "version": 3
   },
   "file_extension": ".py",
   "mimetype": "text/x-python",
   "name": "python",
   "nbconvert_exporter": "python",
   "pygments_lexer": "ipython3",
   "version": "3.7.1"
  }
 },
 "nbformat": 4,
 "nbformat_minor": 2
}
