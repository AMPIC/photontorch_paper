{
 "cells": [
  {
   "cell_type": "markdown",
   "metadata": {},
   "source": [
    "## Imports"
   ]
  },
  {
   "cell_type": "code",
   "execution_count": 1,
   "metadata": {},
   "outputs": [],
   "source": [
    "%matplotlib inline\n",
    "\n",
    "# main imports\n",
    "import os\n",
    "import torch\n",
    "import numpy as np\n",
    "import matplotlib.pyplot as plt\n",
    "\n",
    "# photontorch\n",
    "import photontorch as pt\n",
    "\n",
    "# other\n",
    "from tqdm import trange # progress bars\n",
    "from scipy.signal import butter, lfilter # bit smoothing\n",
    "\n",
    "# mpl style context manager\n",
    "custom_style = lambda : plt.style.context(os.path.abspath('custom.mplstyle'))"
   ]
  },
  {
   "cell_type": "markdown",
   "metadata": {},
   "source": [
    "## Parameters"
   ]
  },
  {
   "cell_type": "code",
   "execution_count": 2,
   "metadata": {},
   "outputs": [],
   "source": [
    "device = \"cuda\"\n",
    "wl0 = 1.55e-6  # center wavelength\n",
    "neff = 2.3557#2.34  # effective index\n",
    "ng = 4.2#3.4  # group index of waveguide\n",
    "loss = 300#1000  # [dB/m]\n",
    "ring_length = 2*np.pi*5e-6#2*np.pi*5e-6\n",
    "env = pt.Environment(\n",
    "    wl_start=1.53e-6,\n",
    "    wl_end=1.59e-6,\n",
    "    num_wavelengths=1000,\n",
    "    num_timesteps=1,\n",
    "    frequency_domain=True,\n",
    "    enable_grad=False,\n",
    ")\n",
    "pt.set_environment(env)"
   ]
  },
  {
   "cell_type": "markdown",
   "metadata": {},
   "source": [
    "## Allpass"
   ]
  },
  {
   "cell_type": "code",
   "execution_count": 3,
   "metadata": {},
   "outputs": [
    {
     "name": "stdout",
     "output_type": "stream",
     "text": [
      "wl0=1554.5045045045044\n"
     ]
    },
    {
     "data": {
      "image/png": "[encoded data removed]",
      "text/plain": [
       "<Figure size 252x158.4 with 1 Axes>"
      ]
     },
     "metadata": {},
     "output_type": "display_data"
    }
   ],
   "source": [
    "crow = (\n",
    "    pt.RingNetwork(\n",
    "        ring_length=ring_length, neff=neff, ng=ng, loss=loss, N=2, capacity=14\n",
    "    )\n",
    "    .to(device)\n",
    "    .terminate()\n",
    "    .initialize()\n",
    ")\n",
    "\n",
    "src = (crow.num_sources-1)//2\n",
    "det = crow.num_sources-1 - src - crow.base.capacity//2%2\n",
    "source = np.zeros(crow.num_sources)\n",
    "source[src] = 1\n",
    "detected = crow(source)\n",
    "wl0 = env.wavelength[torch.argmin(detected[0,:,det,0])]*1e9\n",
    "print(f'wl0={wl0}')\n",
    "\n",
    "import os\n",
    "with custom_style():\n",
    "    crow.plot(detected)\n",
    "    plt.grid()\n",
    "    plt.show()"
   ]
  },
  {
   "cell_type": "code",
   "execution_count": 4,
   "metadata": {},
   "outputs": [],
   "source": [
    "#wl0 = 1550\n",
    "\n",
    "class Target(torch.nn.Module):\n",
    "    def __init__(self):\n",
    "        super(Target, self).__init__()\n",
    "        self.sigma = torch.nn.Parameter(torch.tensor(0.5))\n",
    "    def forward(self):\n",
    "        return torch.exp(-(wls-wl0)**2/self.sigma**2)\n",
    "    \n",
    "class FlatbandTarget(torch.nn.Module):\n",
    "    def __init__(self):\n",
    "        super(FlatbandTarget, self).__init__()\n",
    "        self.alpha = self.parameter(6)\n",
    "        self.beta = self.parameter(-0.1)\n",
    "        self.gamma = self.parameter(0.8)\n",
    "    @staticmethod\n",
    "    def parameter(x):\n",
    "        param = torch.nn.Parameter(torch.tensor(\n",
    "            x,\n",
    "            dtype=torch.get_default_dtype(),\n",
    "            device=device\n",
    "        ))\n",
    "        return param\n",
    "    def forward(self):\n",
    "        half_wls = wls[:len(wls)//2]\n",
    "        x = 0.5*self.gamma*(torch.tanh(self.alpha*(half_wls-half_wls.mean()+self.beta))+1.0)\n",
    "        middle = x[-1] if len(wls)%2 else torch.tensor([])\n",
    "        x = torch.cat([x, middle, x.flip(0)])\n",
    "        return x\n",
    "\n",
    "target = FlatbandTarget().to(device)\n",
    "\n",
    "domain = 3\n",
    "width = 1\n",
    "wls = np.linspace(wl0 - 0.5 * domain, wl0 + 0.5 * domain, 200)\n",
    "target2 = lambda : torch.tensor(\n",
    "    np.array((wls > wl0 - 0.5 * width) & (wls < wl0 + 0.5 * width), \"float32\"),\n",
    "    device=device,\n",
    ")\n",
    "wls = torch.tensor(wls, dtype=torch.float32)\n",
    "\n",
    "opt = torch.optim.Adam(crow.parameters(), lr=0.01)\n",
    "#opt = torch.optim.RMSprop(crow.parameters(), lr=0.01)\n",
    "lossfunc = torch.nn.MSELoss()\n",
    "\n",
    "def closure():\n",
    "    return torch.sqrt(((crow(source)[0,:,det,0] - target())**2).mean())"
   ]
  },
  {
   "cell_type": "raw",
   "metadata": {},
   "source": [
    "steps = trange(300)\n",
    "losses = []\n",
    "with env.copy(wavelength=wls * 1e-9, enable_grad=True):\n",
    "    best_cost = torch.tensor(1.0).to(device)\n",
    "    for i in steps:\n",
    "        opt.zero_grad()\n",
    "        crow.initialize()\n",
    "        result = crow(source)[0, :, det, 0]\n",
    "        cost = torch.sqrt(((result - target2())**2).mean())\n",
    "        if cost < best_cost:\n",
    "            torch.save(crow, 'best_crow.pkl')\n",
    "            best_cost = cost\n",
    "        cost.backward()\n",
    "        opt.step() #(closure)\n",
    "        losses.append(best_cost.item())\n",
    "        steps.set_postfix(cost=best_cost.item())\n",
    "        \n",
    "result = crow(source)[0,:,det,0].data.cpu().numpy()\n",
    "np.save('crow/result.npy', result)\n",
    "np.save('crow/losses.npy', losses)"
   ]
  },
  {
   "cell_type": "code",
   "execution_count": 5,
   "metadata": {},
   "outputs": [
    {
     "data": {
      "image/png": "[encoded data removed]",
      "text/plain": [
       "<Figure size 280.8x122.4 with 2 Axes>"
      ]
     },
     "metadata": {},
     "output_type": "display_data"
    }
   ],
   "source": [
    "result = np.load('crow/result.npy')\n",
    "losses = np.load('crow/losses.npy')\n",
    "    \n",
    "with custom_style():\n",
    "    plt.figure(figsize=(3.9,1.7))\n",
    "    plt.subplot2grid((1,5), (0,0), colspan=2)\n",
    "    plt.plot(losses, label='RMSE')\n",
    "    plt.xlim(0, 120)\n",
    "    plt.xticks([0,60,120])\n",
    "    plt.ylim(0, 0.6)\n",
    "    plt.ylabel('RMSE')\n",
    "    plt.xlabel('Traning Steps')\n",
    "    plt.title('(a)')\n",
    "    plt.subplot2grid((1,5), (0,2), colspan=3)\n",
    "    crow.plot(result, label='detected')\n",
    "    #plt.plot(wls.data.numpy(), target().data.numpy())\n",
    "    plt.plot(wls.data.cpu().numpy(), target2().data.cpu().numpy(), '--', label='target')\n",
    "    plt.xticks(\n",
    "        [wl0 - 0.45 * domain, wl0, wl0 + 0.45 * domain],\n",
    "        [r\"$\\lambda_0-1.5$nm\", r\"$\\lambda_0$\", r\"$\\lambda_0+1.5$nm\"],\n",
    "    )\n",
    "    plt.yticks([0,1])\n",
    "    plt.title('(b)')\n",
    "    plt.ylim(-.1, 1.1)\n",
    "    plt.xlim(wl0 - 0.5 * domain, wl0 + 0.5 * domain)\n",
    "    plt.ylabel('Transmission')\n",
    "    plt.xlabel('Wavelength')\n",
    "    #plt.legend(loc='upper right', framealpha=0, prop={'size':7})\n",
    "    plt.tight_layout()\n",
    "    plt.show()"
   ]
  }
 ],
 "metadata": {
  "kernelspec": {
   "display_name": "Python 3",
   "language": "python",
   "name": "python3"
  },
  "language_info": {
   "codemirror_mode": {
    "name": "ipython",
    "version": 3
   },
   "file_extension": ".py",
   "mimetype": "text/x-python",
   "name": "python",
   "nbconvert_exporter": "python",
   "pygments_lexer": "ipython3",
   "version": "3.7.1"
  }
 },
 "nbformat": 4,
 "nbformat_minor": 2
}
