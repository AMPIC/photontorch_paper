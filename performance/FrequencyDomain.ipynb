{
 "cells": [
  {
   "cell_type": "markdown",
   "metadata": {},
   "source": [
    "## Imports"
   ]
  },
  {
   "cell_type": "code",
   "execution_count": null,
   "metadata": {},
   "outputs": [],
   "source": [
    "import pandas as pd\n",
    "import matplotlib.pyplot as plt"
   ]
  },
  {
   "cell_type": "markdown",
   "metadata": {},
   "source": [
    "## Calculating the S-matrix (frequency domain)"
   ]
  },
  {
   "cell_type": "markdown",
   "metadata": {},
   "source": [
    "### Interconnect data"
   ]
  },
  {
   "cell_type": "code",
   "execution_count": null,
   "metadata": {},
   "outputs": [],
   "source": [
    "df_ic = pd.read_csv(\"InterconnectCrow/frequency_domain_single_wl_num_rings_sweep/frequency_domain_single_wl_num_rings_sweep.csv\")"
   ]
  },
  {
   "cell_type": "markdown",
   "metadata": {},
   "source": [
    "### Caphe data"
   ]
  },
  {
   "cell_type": "code",
   "execution_count": null,
   "metadata": {},
   "outputs": [],
   "source": [
    "df_caphe = pd.read_csv(\"CapheCrow/frequency_domain_single_wl_num_rings_sweep/frequency_domain_single_wl_num_rings_sweep.csv\")"
   ]
  },
  {
   "cell_type": "markdown",
   "metadata": {},
   "source": [
    "### Photontorch data"
   ]
  },
  {
   "cell_type": "code",
   "execution_count": null,
   "metadata": {},
   "outputs": [],
   "source": [
    "df_pt = pd.read_csv(\"PhotontorchCrow/frequency_domain_single_wl_num_rings_sweep/frequency_domain_single_wl_num_rings_sweep.csv\")\n",
    "df_ptc = pd.read_csv(\"PhotontorchCrow/frequency_domain_single_wl_num_rings_sweep/frequency_domain_single_wl_num_rings_sweep_cuda.csv\")"
   ]
  },
  {
   "cell_type": "markdown",
   "metadata": {},
   "source": [
    "### Visualize"
   ]
  },
  {
   "cell_type": "code",
   "execution_count": null,
   "metadata": {},
   "outputs": [],
   "source": [
    "plt.figure(figsize=(3.5,2.5))\n",
    "plt.loglog(df_pt[\"# rings\"][4:], df_pt[\"simulation time\"][4:], marker=\"o\", label=\"Photontorch [CPU]\")\n",
    "plt.plot(df_ptc[\"# rings\"][4:], df_ptc[\"simulation time\"][4:], marker=\"o\", label=\"Photontorch [GPU]\", color=\"C0\", ls=\"--\")\n",
    "plt.plot(df_caphe[\"# rings\"][4:], df_caphe[\"simulation time\"][4:], marker=\"s\", label=\"Caphe\")\n",
    "plt.plot(df_ic[\"# rings\"][1:], df_ic[\"simulation time\"][1:], marker=\"^\", label=\"Interconnect\")\n",
    "plt.legend()\n",
    "plt.xlabel(\"\\# rings\")\n",
    "plt.ylabel(\"simulation time [s]\")\n",
    "plt.yticks([1,10,100],[\"1\",\"10\",\"100\"])\n",
    "plt.ylim(1, 100)\n",
    "plt.xticks([1,64,96,128,256,512,1024], [\"1\",\"64\",\"96\",\"128\",\"256\",\"512\",\"1024\"])\n",
    "plt.xlim(60, 1050)\n",
    "plt.tight_layout()\n",
    "plt.savefig(\"frequency_domain_num_rings_sweep.pdf\")\n",
    "plt.show()"
   ]
  }
 ],
 "metadata": {
  "kernelspec": {
   "display_name": "Python 3",
   "language": "python",
   "name": "python3"
  },
  "language_info": {
   "codemirror_mode": {
    "name": "ipython",
    "version": 3
   },
   "file_extension": ".py",
   "mimetype": "text/x-python",
   "name": "python",
   "nbconvert_exporter": "python",
   "pygments_lexer": "ipython3",
   "version": "3.7.1"
  }
 },
 "nbformat": 4,
 "nbformat_minor": 2
}
