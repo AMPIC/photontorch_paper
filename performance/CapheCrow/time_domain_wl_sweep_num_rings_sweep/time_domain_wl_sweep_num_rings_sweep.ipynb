{
 "cells": [
  {
   "cell_type": "markdown",
   "metadata": {},
   "source": [
    "# CROW - photontorch"
   ]
  },
  {
   "cell_type": "markdown",
   "metadata": {},
   "source": [
    "## Imports"
   ]
  },
  {
   "cell_type": "code",
   "execution_count": null,
   "metadata": {},
   "outputs": [],
   "source": [
    "import caphe\n",
    "import numpy as np\n",
    "%matplotlib inline\n",
    "import matplotlib.pyplot as plt"
   ]
  },
  {
   "cell_type": "markdown",
   "metadata": {},
   "source": [
    "## Parameters"
   ]
  },
  {
   "cell_type": "code",
   "execution_count": null,
   "metadata": {
    "slideshow": {
     "slide_type": "-"
    }
   },
   "outputs": [],
   "source": [
    "c = 299792458\n",
    "ring_length = 50e-6 #[m]\n",
    "t = np.arange(0, 2000e-14, 1e-14)\n",
    "wavelengths = 1e-6*np.linspace(1.50, 1.6, 1000) #[m]\n",
    "neff = ng = 2.86 # no dispersion"
   ]
  },
  {
   "cell_type": "markdown",
   "metadata": {},
   "source": [
    "## Crow Network Definition (Caphe)"
   ]
  },
  {
   "cell_type": "code",
   "execution_count": null,
   "metadata": {
    "slideshow": {
     "slide_type": "skip"
    }
   },
   "outputs": [],
   "source": [
    "from caphe.base import link_ports\n",
    "from caphe.base import CapheNodeSolver\n",
    "from caphe.base import Node as CapheNode\n",
    "from caphe.base import EnvironmentObject as CapheEnvironment\n",
    "from caphe.base import BaseDetector as CapheDetector\n",
    "from caphelib.photonics.nodes.source import Source as _CapheSource_\n",
    "from caphelib.photonics.nodes.directionalcoupler import DirectionalCoupler as CapheDirectionalCoupler\n",
    "\n",
    "class CapheSourceModel(caphe.base.TSignalModel):\n",
    "    ''' A Simple Source Model with constant amplitude 1 '''\n",
    "    def calculate_S(self, node, environment, p1, p2):\n",
    "        return 0\n",
    "    def calculate_signals(self, node, environment, t, s_in, s_ext, y):\n",
    "        s_ext[0] = 1\n",
    "        \n",
    "class CapheSource(_CapheSource_):\n",
    "    ''' A Simple Source with constant amplitude 1 '''\n",
    "    model = caphe.base.ModelProperty(default=CapheSourceModel())\n",
    "    def __init__(self, *args, **kwargs):\n",
    "        ## We need this init to suppress a nomodel warning.\n",
    "        kwargs['suppress_warning_nomodel'] = True\n",
    "        super(CapheSource, self).__init__(*args, **kwargs)\n",
    "    \n",
    "class CapheWaveguideModel(caphe.base.SModel):\n",
    "    ''' A simple waveguide Model '''\n",
    "    def calculate_S(self, node, environment, p1, p2):\n",
    "        wl = environment.wavelength\n",
    "        if p1 == p2:\n",
    "            return 0\n",
    "        phase = np.exp(1j*2*np.pi/wl*node.n_eff*node.length)\n",
    "        attenuation = 10**(-node.loss_dB_m*node.length/20)\n",
    "        return phase*attenuation\n",
    "    \n",
    "class CapheDelayedWaveguideModel(caphe.base.TSignalModel):\n",
    "    ''' A delayed waveguide Model '''\n",
    "    def calculate_S(self, node, environment, p1, p2):\n",
    "        return 0\n",
    "    def calculate_signals(self, node, environment, t, s_in, s_ext, y):\n",
    "        wl = environment.wavelength\n",
    "        phase = np.exp(1j*2*np.pi/wl*node.n_eff*node.length)\n",
    "        attenuation = 10**(-node.loss_dB_m*node.length/20)\n",
    "        transmission = attenuation*phase\n",
    "        s_ext[0] = transmission*s_in[1](t-node.delay)\n",
    "        s_ext[1] = transmission*s_in[0](t-node.delay)\n",
    "    \n",
    "class CapheWaveguide(caphe.base.Node):\n",
    "    ''' A simple waveguide '''\n",
    "    nr_ports = 2\n",
    "    model = caphe.base.ModelProperty(default=CapheWaveguideModel())\n",
    "    length = caphe.base.FloatProperty(doc=\"The physical length of the waveguide (using SI units).\")\n",
    "    n_eff = caphe.base.FloatProperty(doc=\"The effective index of the waveguide.\")\n",
    "    loss_dB_m = caphe.base.FloatProperty(doc=\"The loss in the waveguide, expressed in dB/m.\")\n",
    "    @property\n",
    "    def delay(self):\n",
    "        return self.length*self.n_eff/c #[s]\n",
    "    \n",
    "class CapheCrow(object):\n",
    "    def __init__(self, num_rings=1, ring_length=1e-5, loss=0, neff=2.34, \n",
    "                 ng=3.4, wl0=1.55e-6, wg_model=None, couplings=None):\n",
    "        \n",
    "        if couplings is None:\n",
    "            couplings = 0.5*np.ones(num_rings+1)#np.random.rand(num_rings+1)\n",
    "\n",
    "        dcs = np.empty(num_rings+1, dtype=object)\n",
    "        wgs = np.empty((num_rings+1, 4), dtype=object)\n",
    "\n",
    "        circuit = CapheNode(name='crow', nr_ports=0)\n",
    "        s = CapheSource()\n",
    "        d1 = CapheDetector()\n",
    "        d2 = CapheDetector()\n",
    "        d3 = CapheDetector()\n",
    "        \n",
    "        if wg_model is None:\n",
    "            wg_model = CapheWaveguideModel()\n",
    "        self._wg_model = wg_model\n",
    "\n",
    "        for i in range(num_rings+1):\n",
    "            dcs[i] = CapheDirectionalCoupler(tau=(1-couplings[i])**0.5, kappa=couplings[i]**0.5)\n",
    "            wgs[i,0] = CapheWaveguide(length=0.25*ring_length, n_eff=neff, loss_dB_m=loss, model=wg_model)\n",
    "            wgs[i,1] = CapheWaveguide(length=0.25*ring_length, n_eff=neff, loss_dB_m=loss, model=wg_model)\n",
    "            wgs[i,2] = CapheWaveguide(length=0.25*ring_length, n_eff=neff, loss_dB_m=loss, model=wg_model)\n",
    "            wgs[i,3] = CapheWaveguide(length=0.25*ring_length, n_eff=neff, loss_dB_m=loss, model=wg_model)\n",
    "            link_ports(dcs[i].get_port(0), wgs[i,0].get_port(1))\n",
    "            link_ports(dcs[i].get_port(2), wgs[i,1].get_port(1))\n",
    "            link_ports(dcs[i].get_port(1), wgs[i,2].get_port(0))\n",
    "            link_ports(dcs[i].get_port(3), wgs[i,3].get_port(0))\n",
    "\n",
    "        for i in range(num_rings):\n",
    "            link_ports(wgs[i,2].get_port(1), wgs[i+1,0].get_port(0))\n",
    "            link_ports(wgs[i,3].get_port(1), wgs[i+1,1].get_port(0))\n",
    "\n",
    "        link_ports(wgs[0,0].get_port(0), s.get_port(0))\n",
    "        link_ports(wgs[0,1].get_port(0), d1.get_port(0))\n",
    "        link_ports(wgs[-1,2].get_port(1), d2.get_port(0))\n",
    "        link_ports(wgs[-1,3].get_port(1), d3.get_port(0))\n",
    "        \n",
    "        self.wgs = wgs\n",
    "        self.dcs = dcs\n",
    "\n",
    "        nodes = [s, d1, d2, d3] + list(dcs) + list(wgs.ravel())\n",
    "\n",
    "        circuit.add_nodes(*nodes)\n",
    "        \n",
    "        self.circuit = circuit\n",
    "\n",
    "        self.solver = CapheNodeSolver(circuit)\n",
    "        self.solver.set_integration_method(\n",
    "            method=caphe.solvers.euler,\n",
    "            interp_method=caphe.solvers.interpolate_piecewise,\n",
    "        )\n",
    "    \n",
    "    @property\n",
    "    def wg_model(self):\n",
    "        return self._wg_model\n",
    "    @wg_model.setter\n",
    "    def wg_model(self, model):\n",
    "        for wg in self.wgs.ravel():\n",
    "            wg.model = model\n",
    "    \n",
    "    def time(self, time, wavelength=1.55e-6):\n",
    "        if not isinstance(self.wg_model, CapheDelayedWaveguideModel):\n",
    "            self.wg_model = CapheDelayedWaveguideModel()\n",
    "        wavelength = np.array(wavelength)\n",
    "        if wavelength.ndim == 0:\n",
    "            wavelength = wavelength[None]\n",
    "        detected = []\n",
    "        for wl in wavelength:\n",
    "            env = CapheEnvironment(name='env', wavelength=wl)\n",
    "            self.solver.set_internal_dt(time[1]-time[0])\n",
    "            self.solver.solve(t0=time[0], t1=time[-1], dt=time[1]-time[0], environment=env)\n",
    "            _, _, det = self.solver.get_states_and_output()\n",
    "            detected.append(det)\n",
    "        detected = np.stack(detected, 1)\n",
    "        return abs(detected)**2\n",
    "    \n",
    "    def frequency(self, wavelength):\n",
    "        if not isinstance(self.wg_model, CapheWaveguideModel):\n",
    "            self.wg_model = CapheWaveguideModel()\n",
    "        wavelength = np.array(wavelength)\n",
    "        if wavelength.ndim == 0:\n",
    "            wavelength = wavelength[None]\n",
    "        detected = np.zeros((len(wavelengths), 3), dtype=complex)\n",
    "        for i, wl in enumerate(wavelength):\n",
    "            environment = CapheEnvironment(name='env', wavelength=wl)\n",
    "            detected[i] = self.solver.get_C_exttoin(environment=environment)[0,1:]\n",
    "        return abs(detected)**2\n"
   ]
  },
  {
   "cell_type": "markdown",
   "metadata": {},
   "source": [
    "## Constants"
   ]
  },
  {
   "cell_type": "code",
   "execution_count": null,
   "metadata": {},
   "outputs": [],
   "source": [
    "num_wls = 10\n",
    "wls = np.linspace(1.5,1.6, num_wls)\n",
    "t = np.arange(3000)*2e-14"
   ]
  },
  {
   "cell_type": "markdown",
   "metadata": {},
   "source": [
    "## Time Domain (at single wavelength)"
   ]
  },
  {
   "cell_type": "code",
   "execution_count": null,
   "metadata": {},
   "outputs": [],
   "source": [
    "caphe_crow = CapheCrow(\n",
    "    num_rings=63,\n",
    "    ring_length=50e-6,\n",
    "    neff=2.86,\n",
    "    ng=2.86,\n",
    ")\n",
    "\n",
    "%time caphe_det = caphe_crow.time(time=t, wavelength=wls)[:,0,:] # all timesteps, all wavelengths drop port"
   ]
  },
  {
   "cell_type": "code",
   "execution_count": null,
   "metadata": {},
   "outputs": [],
   "source": [
    "def plot_time(detected, **kwargs):\n",
    "    ''' Plot detected power vs frequency '''\n",
    "    labels = kwargs.pop('labels', ['pass','drop','add'])\n",
    "    show = kwargs.pop('show', True)\n",
    "    plots = plt.plot(t*1e12, detected, **kwargs)\n",
    "    plt.xlabel('Time [ps]')\n",
    "    plt.ylabel('Transmission')\n",
    "    if labels is not None: plt.figlegend(plots, labels, loc='upper center', ncol=len(labels)%5)\n",
    "    if show: plt.show()\n",
    "plot_time(caphe_det)\n",
    "plt.show()"
   ]
  }
 ],
 "metadata": {
  "kernelspec": {
   "display_name": "Python 2",
   "language": "python",
   "name": "python2"
  },
  "language_info": {
   "codemirror_mode": {
    "name": "ipython",
    "version": 2
   },
   "file_extension": ".py",
   "mimetype": "text/x-python",
   "name": "python",
   "nbconvert_exporter": "python",
   "pygments_lexer": "ipython2",
   "version": "2.7.15"
  }
 },
 "nbformat": 4,
 "nbformat_minor": 2
}
