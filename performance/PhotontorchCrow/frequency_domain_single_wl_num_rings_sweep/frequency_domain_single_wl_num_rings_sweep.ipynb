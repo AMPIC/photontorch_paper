{
 "cells": [
  {
   "cell_type": "markdown",
   "metadata": {},
   "source": [
    "# CROW - photontorch"
   ]
  },
  {
   "cell_type": "markdown",
   "metadata": {},
   "source": [
    "## Imports"
   ]
  },
  {
   "cell_type": "code",
   "execution_count": null,
   "metadata": {},
   "outputs": [],
   "source": [
    "import photontorch as pt\n",
    "from photontorch_crow import PhotontorchCrow"
   ]
  },
  {
   "cell_type": "markdown",
   "metadata": {},
   "source": [
    "## Frequency Domain"
   ]
  },
  {
   "cell_type": "code",
   "execution_count": null,
   "metadata": {},
   "outputs": [],
   "source": [
    "%%time\n",
    "crow = PhotontorchCrow(\n",
    "    num_rings=1023,\n",
    "    ring_length=50e-6,\n",
    "    neff=2.86,\n",
    "    ng=2.86,\n",
    ").terminate()\n",
    "\n",
    "with pt.Environment(wavelength=1.55e-6,frequency_domain=True):\n",
    "    pt_det = crow(source=1)[0,:,:,0] # single timestep, all wavelengths, all outputs, single batch"
   ]
  }
 ],
 "metadata": {
  "kernelspec": {
   "display_name": "Python 3",
   "language": "python",
   "name": "python3"
  },
  "language_info": {
   "codemirror_mode": {
    "name": "ipython",
    "version": 3
   },
   "file_extension": ".py",
   "mimetype": "text/x-python",
   "name": "python",
   "nbconvert_exporter": "python",
   "pygments_lexer": "ipython3",
   "version": "3.7.1"
  }
 },
 "nbformat": 4,
 "nbformat_minor": 2
}
