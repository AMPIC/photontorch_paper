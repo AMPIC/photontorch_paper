{
 "cells": [
  {
   "cell_type": "markdown",
   "metadata": {},
   "source": [
    "# CROW - photontorch"
   ]
  },
  {
   "cell_type": "markdown",
   "metadata": {},
   "source": [
    "## Imports"
   ]
  },
  {
   "cell_type": "code",
   "execution_count": 1,
   "metadata": {},
   "outputs": [],
   "source": [
    "import photontorch as pt\n",
    "from photontorch_crow import PhotontorchCrow"
   ]
  },
  {
   "cell_type": "markdown",
   "metadata": {},
   "source": [
    "## Frequency Domain"
   ]
  },
  {
   "cell_type": "code",
   "execution_count": 2,
   "metadata": {},
   "outputs": [
    {
     "name": "stdout",
     "output_type": "stream",
     "text": [
      "CPU times: user 38.5 s, sys: 2.72 s, total: 41.2 s\n",
      "Wall time: 11 s\n"
     ]
    },
    {
     "name": "stderr",
     "output_type": "stream",
     "text": [
      "/home/flaport/Programming/Photontorch/photontorch/networks/network.py:640: UserWarning: The given NumPy array is not writeable, and PyTorch does not support non-writeable tensors. This means you can write to the underlying (supposedly non-writeable) NumPy array using the tensor. You may want to copy the array to protect its data or make it writeable before converting it to a tensor. This type of warning will be suppressed for the rest of this program. (Triggered internally at  /opt/conda/conda-bld/pytorch_1596265861335/work/torch/csrc/utils/tensor_numpy.cpp:141.)\n",
      "  device=self.device,\n"
     ]
    }
   ],
   "source": [
    "%%time\n",
    "crow = PhotontorchCrow(\n",
    "    num_rings=511,\n",
    "    ring_length=50e-6,\n",
    "    neff=2.86,\n",
    "    ng=2.86,\n",
    ").to(\"cpu\").terminate()\n",
    "\n",
    "with pt.Environment(wavelength=1.55e-6,frequency_domain=True):\n",
    "    pt_det = crow(source=1)[0,:,:,0] # single timestep, all wavelengths, all outputs, single batch"
   ]
  }
 ],
 "metadata": {
  "kernelspec": {
   "display_name": "ptdev",
   "language": "python",
   "name": "ptdev"
  },
  "language_info": {
   "codemirror_mode": {
    "name": "ipython",
    "version": 3
   },
   "file_extension": ".py",
   "mimetype": "text/x-python",
   "name": "python",
   "nbconvert_exporter": "python",
   "pygments_lexer": "ipython3",
   "version": "3.7.7"
  }
 },
 "nbformat": 4,
 "nbformat_minor": 4
}
