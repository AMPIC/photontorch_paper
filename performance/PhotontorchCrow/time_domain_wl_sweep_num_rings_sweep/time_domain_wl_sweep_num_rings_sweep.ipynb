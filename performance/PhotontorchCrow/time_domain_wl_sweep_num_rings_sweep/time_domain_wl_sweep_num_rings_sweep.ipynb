{
 "cells": [
  {
   "cell_type": "markdown",
   "metadata": {},
   "source": [
    "# CROW - photontorch"
   ]
  },
  {
   "cell_type": "markdown",
   "metadata": {},
   "source": [
    "## Imports"
   ]
  },
  {
   "cell_type": "code",
   "execution_count": null,
   "metadata": {},
   "outputs": [],
   "source": [
    "import torch\n",
    "import numpy as np\n",
    "import photontorch as pt\n",
    "from photontorch_crow import PhotontorchCrow\n",
    "import matplotlib.pyplot as plt"
   ]
  },
  {
   "cell_type": "markdown",
   "metadata": {},
   "source": [
    "## Constants"
   ]
  },
  {
   "cell_type": "code",
   "execution_count": null,
   "metadata": {},
   "outputs": [],
   "source": [
    "num_wls = 1\n",
    "device = \"cpu\"\n",
    "wls = np.linspace(1.55,1.6, num_wls)\n",
    "t = np.arange(3000)*2e-14\n",
    "\n",
    "pt.set_environment(time=t, wavelength=wls)"
   ]
  },
  {
   "cell_type": "markdown",
   "metadata": {},
   "source": [
    "## Time Domain"
   ]
  },
  {
   "cell_type": "code",
   "execution_count": null,
   "metadata": {},
   "outputs": [],
   "source": [
    "crow = PhotontorchCrow(\n",
    "    num_rings=63,\n",
    "    ring_length=50e-6,\n",
    "    neff=2.86,\n",
    "    ng=2.86,\n",
    ").initialize().to(device)\n",
    "\n",
    "with torch.no_grad():\n",
    "    %time pt_det = crow(source=1)[:,0,:,0] # all timesteps, single wavelengths, all outputs, single batch"
   ]
  },
  {
   "cell_type": "code",
   "execution_count": null,
   "metadata": {},
   "outputs": [],
   "source": [
    "%matplotlib inline\n",
    "crow.plot(pt_det);"
   ]
  }
 ],
 "metadata": {
  "kernelspec": {
   "display_name": "Python 3",
   "language": "python",
   "name": "python3"
  },
  "language_info": {
   "codemirror_mode": {
    "name": "ipython",
    "version": 3
   },
   "file_extension": ".py",
   "mimetype": "text/x-python",
   "name": "python",
   "nbconvert_exporter": "python",
   "pygments_lexer": "ipython3",
   "version": "3.7.1"
  }
 },
 "nbformat": 4,
 "nbformat_minor": 2
}
