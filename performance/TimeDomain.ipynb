{
 "cells": [
  {
   "cell_type": "markdown",
   "metadata": {},
   "source": [
    "## Imports"
   ]
  },
  {
   "cell_type": "code",
   "execution_count": null,
   "metadata": {},
   "outputs": [],
   "source": [
    "import pandas as pd\n",
    "import matplotlib.pyplot as plt"
   ]
  },
  {
   "cell_type": "markdown",
   "metadata": {},
   "source": [
    "## Calculating the S-matrix (frequency domain)"
   ]
  },
  {
   "cell_type": "markdown",
   "metadata": {},
   "source": [
    "### Interconnect data"
   ]
  },
  {
   "cell_type": "code",
   "execution_count": null,
   "metadata": {},
   "outputs": [],
   "source": [
    "df_ic = pd.read_csv(\"InterconnectCrow/time_domain_wl_sweep_num_rings_sweep/time_domain_3000_wl_sweep_num_rings_sweep.csv\").set_index(\"# rings / # wavelenths\")"
   ]
  },
  {
   "cell_type": "markdown",
   "metadata": {},
   "source": [
    "### Caphe data"
   ]
  },
  {
   "cell_type": "code",
   "execution_count": null,
   "metadata": {},
   "outputs": [],
   "source": [
    "df_caphe = pd.read_csv(\"CapheCrow/time_domain_wl_sweep_num_rings_sweep/time_domain_3000_wl_sweep_num_rings_sweep.csv\").set_index(\"# rings / # wavelenths\")"
   ]
  },
  {
   "cell_type": "markdown",
   "metadata": {},
   "source": [
    "### Photontorch data"
   ]
  },
  {
   "cell_type": "code",
   "execution_count": null,
   "metadata": {},
   "outputs": [],
   "source": [
    "df_pt = pd.read_csv(\"PhotontorchCrow/time_domain_wl_sweep_num_rings_sweep/time_domain_3000_wl_sweep_num_rings_sweep.csv\").set_index(\"# rings / # wavelenths\")\n",
    "df_ptc = pd.read_csv(\"PhotontorchCrow/time_domain_wl_sweep_num_rings_sweep/time_domain_3000_wl_sweep_num_rings_sweep_cuda.csv\").set_index(\"# rings / # wavelenths\")\n",
    "df_ptb = pd.read_csv(\"PhotontorchCrow/time_domain_wl_sweep_num_rings_sweep/time_domain_3000_batch_sweep_num_rings_sweep.csv\").set_index(\"# rings\")\n",
    "df_ptcb = pd.read_csv(\"PhotontorchCrow/time_domain_wl_sweep_num_rings_sweep/time_domain_3000_batch_sweep_num_rings_sweep_cuda.csv\").set_index(\"# rings\")"
   ]
  },
  {
   "cell_type": "markdown",
   "metadata": {},
   "source": [
    "### Visualize"
   ]
  },
  {
   "cell_type": "code",
   "execution_count": null,
   "metadata": {},
   "outputs": [],
   "source": [
    "plt.figure(figsize=(3.5,2.5))\n",
    "plt.loglog(df_pt.index[1:], df_pt.iloc[1:,0], marker=\"o\", label=\"Photontorch [CPU]\")\n",
    "plt.plot(df_ptc.index[1:], df_ptc.iloc[1:,0], marker=\"o\", label=\"Photontorch [GPU]\", color=\"C0\", ls=\"--\")\n",
    "plt.plot(df_caphe.index[1:-1], df_caphe.iloc[1:-1,0], marker=\"s\", label=\"Caphe\")\n",
    "plt.plot(df_ic.index[1:], df_ic.iloc[1:,0], marker=\"^\", label=\"Interconnect\")\n",
    "plt.xlabel(\"\\# rings\")\n",
    "plt.ylabel(\"simulation time [s]\")\n",
    "plt.ylim(1,None)\n",
    "plt.yticks([1,10,100],[\"1\",\"10\",\"100\"])\n",
    "plt.xticks([1,64,96,128,256,512], [\"1\",\"64\",\"96\",\"128\",\"256\",\"512\"])\n",
    "plt.xlim(50,550)\n",
    "plt.xlabel(\"\\# wavelengths\")\n",
    "plt.ylabel(\"simulation time [s]\")\n",
    "plt.legend()\n",
    "plt.tight_layout()\n",
    "plt.savefig(\"time_domain_num_rings_sweep.pdf\")\n",
    "plt.show()"
   ]
  },
  {
   "cell_type": "code",
   "execution_count": null,
   "metadata": {},
   "outputs": [],
   "source": [
    "plt.figure(figsize=(3.5,2.5))\n",
    "x = [float(x) for x in df_pt.loc[63].index.values]\n",
    "plt.loglog(x, df_pt.loc[63], label=\"Photontorch [CPU]\", marker=\"o\", linestyle=\"-\")\n",
    "plt.plot(x, df_ptc.loc[63], label=\"Photontorch [CPU]\", color=\"C0\", marker=\"o\", linestyle=\"--\")\n",
    "plt.plot(x, df_caphe.loc[63], label=\"Caphe\", marker=\"s\", linestyle=\"-\")\n",
    "plt.plot(x, df_ic.loc[63], label=\"Interconnect\", marker=\"^\", linestyle=\"-\")\n",
    "plt.ylim(1,None)\n",
    "plt.yticks([1,10,100,1000],[\"1\",\"10\",\"100\",\"1000\"])\n",
    "plt.xticks([1,2,10,20,40,100], [\"1\",\"2\",\"10\",\"20\",\"40\",\"100\"])\n",
    "plt.xlabel(\"\\# wavelengths\")\n",
    "plt.ylabel(\"simulation time [s]\")\n",
    "plt.legend()\n",
    "plt.tight_layout()\n",
    "plt.savefig(\"time_domain_num_wavelengths_sweep.pdf\")\n",
    "plt.show()"
   ]
  },
  {
   "cell_type": "code",
   "execution_count": null,
   "metadata": {},
   "outputs": [],
   "source": [
    "plt.figure(figsize=(3.5,2.5))\n",
    "x0 = [float(x) for x in df_ptb.loc[63].index.values]\n",
    "x1 = [float(x) for x in df_pt.loc[63].index.values]\n",
    "plt.loglog(x0[2:], df_ptb.loc[63][2:], label=\"Photontorch [CPU]\", marker=\"o\", linestyle=\"-\")\n",
    "plt.plot(x0[2:], df_ptcb.loc[63][2:], label=\"Photontorch [CPU]\", color=\"C0\", marker=\"o\", linestyle=\"--\")\n",
    "plt.plot(x1, df_caphe.loc[63], label=\"Caphe\", marker=\"s\", linestyle=\"-\")\n",
    "plt.plot(x1, df_ic.loc[63], label=\"Interconnect\", marker=\"^\", linestyle=\"-\")\n",
    "plt.ylim(1,None)\n",
    "plt.yticks([1,10,100,1000],[\"1\",\"10\",\"100\",\"1000\"])\n",
    "plt.xticks([1,2,10,20,40,100,200,400], [\"1\",\"2\",\"10\",\"20\",\"40\",\"100\",\"200\",\"400\"])\n",
    "plt.xlabel(\"\\# wavelengths\")\n",
    "plt.ylabel(\"simulation time [s]\")\n",
    "plt.legend()\n",
    "plt.tight_layout()\n",
    "plt.savefig(\"time_domain_num_batches_sweep.pdf\")\n",
    "plt.show()"
   ]
  }
 ],
 "metadata": {
  "kernelspec": {
   "display_name": "Python 3",
   "language": "python",
   "name": "python3"
  },
  "language_info": {
   "codemirror_mode": {
    "name": "ipython",
    "version": 3
   },
   "file_extension": ".py",
   "mimetype": "text/x-python",
   "name": "python",
   "nbconvert_exporter": "python",
   "pygments_lexer": "ipython3",
   "version": "3.7.1"
  }
 },
 "nbformat": 4,
 "nbformat_minor": 2
}
